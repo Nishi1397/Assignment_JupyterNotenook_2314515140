{
 "cells": [
  {
   "cell_type": "markdown",
   "id": "3949a322",
   "metadata": {},
   "source": [
    "# DataScienceTools and Ecosystem."
   ]
  },
  {
   "cell_type": "markdown",
   "id": "f9611836",
   "metadata": {},
   "source": [
    "## Author: "
   ]
  },
  {
   "cell_type": "markdown",
   "id": "00e84d31",
   "metadata": {},
   "source": [
    "Nishmitha"
   ]
  },
  {
   "cell_type": "markdown",
   "id": "f29b228f",
   "metadata": {},
   "source": [
    "This is a Jupyter Notebook. Its an open source web application that allows us to create and share documents, codes, visualizations etc. Its mostly used in Data Science research. \n",
    "Key features: \n",
    "* It allows the users to code and see the result immidiately.\n",
    "* It can combine codes, images, texts etc.\n",
    "* We can also make use of multiple programming languages.\n",
    "* It runs on a web browser, hence its easy to use."
   ]
  },
  {
   "cell_type": "markdown",
   "id": "d65a693c",
   "metadata": {},
   "source": [
    "**Objectives:**\n",
    "* Key features.\n",
    "* Popular Data Science Language.\n",
    "* Common Data Science Libraries.\n",
    "* Arithmetic Expressions used.\n",
    "* Time conversion."
   ]
  },
  {
   "cell_type": "markdown",
   "id": "4ccb73cc",
   "metadata": {},
   "source": [
    "The most popular Data Science Languages are:\n",
    "1. Python: Its widely used in Data Science cause of its wide libraries for data analysis and machine learning.\n",
    "2. R: This is specially designed for data analysis, statistical computing and graphics.\n",
    "3. Java: Its used for developing machine learning algorithms.\n",
    "4. JavaScript: Used for web development. Also used for creating or developing front end visualization and dashboards.\n",
    "5. SQL: Used for interacting and managing relational database.\n"
   ]
  },
  {
   "cell_type": "markdown",
   "id": "18b96d66",
   "metadata": {},
   "source": [
    "Some of the commonly used Data Science Libraries:\n",
    "1. **Numpy**- Its used for numerical computing in Python.\n",
    "2. **Pandas**- Used for data analysis and manipulation.\n",
    "3. **Matplotlib**- Used for creating visualizations.\n",
    "4. **Seaborn**- This is built on Matplotlib. Used for better appeaing statistical visualizations.\n",
    "5. **SciPy**- Used for scientific and technical computing."
   ]
  },
  {
   "cell_type": "markdown",
   "id": "dfb22745",
   "metadata": {},
   "source": [
    "| Data Science Tools |\n",
    "|---|\n",
    "| Jupyter Notebook | \n",
    "| RStudio |\n",
    "| VS Code |"
   ]
  },
  {
   "cell_type": "markdown",
   "id": "3ca2f17f",
   "metadata": {},
   "source": [
    "### Below are the few examples of evaluating arithmetic expressions in Python:"
   ]
  },
  {
   "cell_type": "markdown",
   "id": "c20f7c98",
   "metadata": {},
   "source": [
    "|Operator|Description|Example|\n",
    "|-------------|-------|-------|\n",
    "|+| Addition |3+5=8|\n",
    "|-| Subtraction |9-4=5|\n",
    "|/| Division | 35/5=7|\n",
    "|%| Modulo |7%2=1|"
   ]
  },
  {
   "cell_type": "markdown",
   "id": "fbcafe61",
   "metadata": {},
   "source": [
    "This is a simple arithmetic expression where first the multiplication is performed and the the addition. \n"
   ]
  },
  {
   "cell_type": "markdown",
   "id": "9bb737df",
   "metadata": {},
   "source": [
    "|Arithmetic Operation|Operation|\n",
    "|--------|----------|\n",
    "|Multiplication and Addition|(3*4)+5|"
   ]
  },
  {
   "cell_type": "code",
   "execution_count": 4,
   "id": "b0dd6283",
   "metadata": {},
   "outputs": [
    {
     "data": {
      "text/plain": [
       "17"
      ]
     },
     "execution_count": 4,
     "metadata": {},
     "output_type": "execute_result"
    }
   ],
   "source": [
    "(3*4)+5"
   ]
  },
  {
   "cell_type": "markdown",
   "id": "97306bc1",
   "metadata": {},
   "source": [
    "The below expression converts minutes to hours. That is 200 minutes is divided by 60 to convert to hours."
   ]
  },
  {
   "cell_type": "code",
   "execution_count": 5,
   "id": "dcd135df",
   "metadata": {},
   "outputs": [
    {
     "name": "stdout",
     "output_type": "stream",
     "text": [
      "200 minutes is equal to 3.3333333333333335 hours\n"
     ]
    }
   ],
   "source": [
    "def minutes_to_hours(minutes):\n",
    "    hours = minutes/60\n",
    "    return hours\n",
    "minutes = 200\n",
    "hours = minutes_to_hours(minutes)\n",
    "print(f\"{minutes} minutes is equal to {hours} hours\")"
   ]
  },
  {
   "cell_type": "markdown",
   "id": "4e780af9",
   "metadata": {},
   "source": []
  }
 ],
 "metadata": {
  "kernelspec": {
   "display_name": "Python 3 (ipykernel)",
   "language": "python",
   "name": "python3"
  },
  "language_info": {
   "codemirror_mode": {
    "name": "ipython",
    "version": 3
   },
   "file_extension": ".py",
   "mimetype": "text/x-python",
   "name": "python",
   "nbconvert_exporter": "python",
   "pygments_lexer": "ipython3",
   "version": "3.9.7"
  }
 },
 "nbformat": 4,
 "nbformat_minor": 5
}
